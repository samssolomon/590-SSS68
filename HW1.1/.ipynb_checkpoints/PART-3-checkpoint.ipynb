{
 "cells": [
  {
   "cell_type": "code",
   "execution_count": 1,
   "id": "5acc9431-1eb4-49dd-9b55-2fabf284f676",
   "metadata": {},
   "outputs": [],
   "source": [
    "### Define the problem and assemble a dataset\n",
    "\n",
    "# Set working directory\n",
    "import os\n",
    "os.chdir('/home/sam590/590-CODES/DATA')"
   ]
  },
  {
   "cell_type": "code",
   "execution_count": 2,
   "id": "449e7baa-8d5b-4bd6-b35a-dbd793c1e41a",
   "metadata": {},
   "outputs": [
    {
     "data": {
      "text/html": [
       "<div>\n",
       "<style scoped>\n",
       "    .dataframe tbody tr th:only-of-type {\n",
       "        vertical-align: middle;\n",
       "    }\n",
       "\n",
       "    .dataframe tbody tr th {\n",
       "        vertical-align: top;\n",
       "    }\n",
       "\n",
       "    .dataframe thead th {\n",
       "        text-align: right;\n",
       "    }\n",
       "</style>\n",
       "<table border=\"1\" class=\"dataframe\">\n",
       "  <thead>\n",
       "    <tr style=\"text-align: right;\">\n",
       "      <th></th>\n",
       "      <th>is_adult</th>\n",
       "      <th>age</th>\n",
       "      <th>height</th>\n",
       "    </tr>\n",
       "  </thead>\n",
       "  <tbody>\n",
       "    <tr>\n",
       "      <th>0</th>\n",
       "      <td>0</td>\n",
       "      <td>3.000000</td>\n",
       "      <td>48.766263</td>\n",
       "    </tr>\n",
       "    <tr>\n",
       "      <th>1</th>\n",
       "      <td>0</td>\n",
       "      <td>3.389558</td>\n",
       "      <td>29.945973</td>\n",
       "    </tr>\n",
       "    <tr>\n",
       "      <th>2</th>\n",
       "      <td>0</td>\n",
       "      <td>3.779116</td>\n",
       "      <td>49.316562</td>\n",
       "    </tr>\n",
       "    <tr>\n",
       "      <th>3</th>\n",
       "      <td>0</td>\n",
       "      <td>4.168675</td>\n",
       "      <td>41.663606</td>\n",
       "    </tr>\n",
       "    <tr>\n",
       "      <th>4</th>\n",
       "      <td>0</td>\n",
       "      <td>4.558233</td>\n",
       "      <td>57.909618</td>\n",
       "    </tr>\n",
       "    <tr>\n",
       "      <th>...</th>\n",
       "      <td>...</td>\n",
       "      <td>...</td>\n",
       "      <td>...</td>\n",
       "    </tr>\n",
       "    <tr>\n",
       "      <th>245</th>\n",
       "      <td>1</td>\n",
       "      <td>98.441767</td>\n",
       "      <td>183.863407</td>\n",
       "    </tr>\n",
       "    <tr>\n",
       "      <th>246</th>\n",
       "      <td>1</td>\n",
       "      <td>98.831325</td>\n",
       "      <td>198.271147</td>\n",
       "    </tr>\n",
       "    <tr>\n",
       "      <th>247</th>\n",
       "      <td>1</td>\n",
       "      <td>99.220884</td>\n",
       "      <td>185.151908</td>\n",
       "    </tr>\n",
       "    <tr>\n",
       "      <th>248</th>\n",
       "      <td>1</td>\n",
       "      <td>99.610442</td>\n",
       "      <td>212.768955</td>\n",
       "    </tr>\n",
       "    <tr>\n",
       "      <th>249</th>\n",
       "      <td>1</td>\n",
       "      <td>100.000000</td>\n",
       "      <td>194.726474</td>\n",
       "    </tr>\n",
       "  </tbody>\n",
       "</table>\n",
       "<p>250 rows × 3 columns</p>\n",
       "</div>"
      ],
      "text/plain": [
       "     is_adult         age      height\n",
       "0           0    3.000000   48.766263\n",
       "1           0    3.389558   29.945973\n",
       "2           0    3.779116   49.316562\n",
       "3           0    4.168675   41.663606\n",
       "4           0    4.558233   57.909618\n",
       "..        ...         ...         ...\n",
       "245         1   98.441767  183.863407\n",
       "246         1   98.831325  198.271147\n",
       "247         1   99.220884  185.151908\n",
       "248         1   99.610442  212.768955\n",
       "249         1  100.000000  194.726474\n",
       "\n",
       "[250 rows x 3 columns]"
      ]
     },
     "execution_count": 2,
     "metadata": {},
     "output_type": "execute_result"
    }
   ],
   "source": [
    "## Load data from .json file\n",
    "import json\n",
    "import pandas as pd\n",
    "weight = open('weight.json',)\n",
    "\n",
    "data = json.load(weight) # as a dictionary\n",
    "\n",
    "df = pd.read_json('weight.json') # as a Pandas dataframe\n",
    "df = df.drop(columns=['xlabel','ylabel']) # remove initial two columns\n",
    "df = df.rename(columns = {'is_adult': 'is_adult','x': 'age','y': 'height'}) # rename columns\n",
    "df"
   ]
  },
  {
   "cell_type": "code",
   "execution_count": 8,
   "id": "b6da40f7-0974-4abc-88e9-cd3f753f92d9",
   "metadata": {},
   "outputs": [
    {
     "data": {
      "text/plain": [
       "__main__.Data"
      ]
     },
     "execution_count": 8,
     "metadata": {},
     "output_type": "execute_result"
    }
   ],
   "source": [
    "# Make a class called \"Data\" which reads the json,  partitions the data, and has functions (methods) to visualize data\n",
    "\n",
    "from sklearn.model_selection import train_test_split\n",
    "\n",
    "class Data: # Make a class called \"Data\"...\n",
    "    \n",
    "    #INITIALIZE\n",
    "    def __init__(self, attributions): #...which reads the json\n",
    "        self.age = attributions[0]\n",
    "        self.weight = attributions[1]    \n",
    "        self.isadult = attributions[2]\n",
    "        \n",
    "    #def partition(self,split=0.8):   #..., partitions the data\n",
    "        \n",
    "\n",
    "                                     #..., and has functions (methods) to visualize data\n",
    "\n",
    "Data"
   ]
  },
  {
   "cell_type": "code",
   "execution_count": 80,
   "id": "84062644",
   "metadata": {},
   "outputs": [
    {
     "name": "stdout",
     "output_type": "stream",
     "text": [
      "48.76626264697014\n"
     ]
    },
    {
     "data": {
      "text/plain": [
       "0        3.000000\n",
       "1        3.389558\n",
       "2        3.779116\n",
       "3        4.168675\n",
       "4        4.558233\n",
       "          ...    \n",
       "245     98.441767\n",
       "246     98.831325\n",
       "247     99.220884\n",
       "248     99.610442\n",
       "249    100.000000\n",
       "Name: age, Length: 250, dtype: float64"
      ]
     },
     "execution_count": 80,
     "metadata": {},
     "output_type": "execute_result"
    }
   ],
   "source": [
    "        \n",
    "data['x'][0]\n",
    "\n",
    "\n",
    "L = Data([data['x'][0],data['y'][0],data['is_adult'][0]])\n",
    "print(L.weight)\n",
    "\n"
   ]
  },
  {
   "cell_type": "code",
   "execution_count": 127,
   "id": "ba9875cd-461a-41db-a8ee-bd51f177c147",
   "metadata": {},
   "outputs": [],
   "source": [
    "# Use mean square error (MSE) or sum of square error (SSE) as the loss function\n",
    "\n"
   ]
  },
  {
   "cell_type": "code",
   "execution_count": 138,
   "id": "db8ec3dd",
   "metadata": {},
   "outputs": [],
   "source": [
    "# Partition dictionary\n",
    "\n",
    "adult_train, adult_test, age_train, age_test, height_train, height_test = train_test_split(\n",
    "data['is_adult'], data['x'], data['y'], test_size = 0.2, random_state = 123, shuffle = True)\n"
   ]
  },
  {
   "cell_type": "code",
   "execution_count": 136,
   "id": "314c43b2",
   "metadata": {},
   "outputs": [
    {
     "data": {
      "text/html": [
       "<div>\n",
       "<style scoped>\n",
       "    .dataframe tbody tr th:only-of-type {\n",
       "        vertical-align: middle;\n",
       "    }\n",
       "\n",
       "    .dataframe tbody tr th {\n",
       "        vertical-align: top;\n",
       "    }\n",
       "\n",
       "    .dataframe thead th {\n",
       "        text-align: right;\n",
       "    }\n",
       "</style>\n",
       "<table border=\"1\" class=\"dataframe\">\n",
       "  <thead>\n",
       "    <tr style=\"text-align: right;\">\n",
       "      <th></th>\n",
       "      <th>adult</th>\n",
       "      <th>age_norm</th>\n",
       "      <th>height_norm</th>\n",
       "    </tr>\n",
       "  </thead>\n",
       "  <tbody>\n",
       "    <tr>\n",
       "      <th>0</th>\n",
       "      <td>0</td>\n",
       "      <td>-1.725136</td>\n",
       "      <td>-3.009783</td>\n",
       "    </tr>\n",
       "    <tr>\n",
       "      <th>1</th>\n",
       "      <td>0</td>\n",
       "      <td>-1.711280</td>\n",
       "      <td>-3.433103</td>\n",
       "    </tr>\n",
       "    <tr>\n",
       "      <th>2</th>\n",
       "      <td>0</td>\n",
       "      <td>-1.697423</td>\n",
       "      <td>-2.997406</td>\n",
       "    </tr>\n",
       "    <tr>\n",
       "      <th>3</th>\n",
       "      <td>0</td>\n",
       "      <td>-1.683567</td>\n",
       "      <td>-3.169542</td>\n",
       "    </tr>\n",
       "    <tr>\n",
       "      <th>4</th>\n",
       "      <td>0</td>\n",
       "      <td>-1.669710</td>\n",
       "      <td>-2.804124</td>\n",
       "    </tr>\n",
       "    <tr>\n",
       "      <th>...</th>\n",
       "      <td>...</td>\n",
       "      <td>...</td>\n",
       "      <td>...</td>\n",
       "    </tr>\n",
       "    <tr>\n",
       "      <th>245</th>\n",
       "      <td>1</td>\n",
       "      <td>1.669710</td>\n",
       "      <td>0.028921</td>\n",
       "    </tr>\n",
       "    <tr>\n",
       "      <th>246</th>\n",
       "      <td>1</td>\n",
       "      <td>1.683567</td>\n",
       "      <td>0.352991</td>\n",
       "    </tr>\n",
       "    <tr>\n",
       "      <th>247</th>\n",
       "      <td>1</td>\n",
       "      <td>1.697423</td>\n",
       "      <td>0.057903</td>\n",
       "    </tr>\n",
       "    <tr>\n",
       "      <th>248</th>\n",
       "      <td>1</td>\n",
       "      <td>1.711280</td>\n",
       "      <td>0.679086</td>\n",
       "    </tr>\n",
       "    <tr>\n",
       "      <th>249</th>\n",
       "      <td>1</td>\n",
       "      <td>1.725136</td>\n",
       "      <td>0.273261</td>\n",
       "    </tr>\n",
       "  </tbody>\n",
       "</table>\n",
       "<p>250 rows × 3 columns</p>\n",
       "</div>"
      ],
      "text/plain": [
       "     adult  age_norm  height_norm\n",
       "0        0 -1.725136    -3.009783\n",
       "1        0 -1.711280    -3.433103\n",
       "2        0 -1.697423    -2.997406\n",
       "3        0 -1.683567    -3.169542\n",
       "4        0 -1.669710    -2.804124\n",
       "..     ...       ...          ...\n",
       "245      1  1.669710     0.028921\n",
       "246      1  1.683567     0.352991\n",
       "247      1  1.697423     0.057903\n",
       "248      1  1.711280     0.679086\n",
       "249      1  1.725136     0.273261\n",
       "\n",
       "[250 rows x 3 columns]"
      ]
     },
     "execution_count": 136,
     "metadata": {},
     "output_type": "execute_result"
    }
   ],
   "source": [
    "# Normalize inputs\n",
    "\n",
    "# Take mean\n",
    "height_mean = np.mean(height)\n",
    "age_mean = np.mean(age)\n",
    "\n",
    "# Take standard deviation\n",
    "height_std = np.std(height)\n",
    "age_std = np.std(age)\n",
    "\n",
    "# Normalize age and height\n",
    "height_norm = (height - height_mean)/height_std\n",
    "age_norm = (age - age_mean)/age_std\n",
    "\n",
    "# Combine back into one dataframe\n",
    "df_norm = pd.DataFrame({'adult': df.is_adult, 'age_norm': age_norm, 'height_norm': height_norm})\n",
    "df_norm"
   ]
  },
  {
   "cell_type": "code",
   "execution_count": 146,
   "id": "a9cdd254",
   "metadata": {},
   "outputs": [
    {
     "data": {
      "text/html": [
       "<div>\n",
       "<style scoped>\n",
       "    .dataframe tbody tr th:only-of-type {\n",
       "        vertical-align: middle;\n",
       "    }\n",
       "\n",
       "    .dataframe tbody tr th {\n",
       "        vertical-align: top;\n",
       "    }\n",
       "\n",
       "    .dataframe thead th {\n",
       "        text-align: right;\n",
       "    }\n",
       "</style>\n",
       "<table border=\"1\" class=\"dataframe\">\n",
       "  <thead>\n",
       "    <tr style=\"text-align: right;\">\n",
       "      <th></th>\n",
       "      <th>adult</th>\n",
       "      <th>age_norm</th>\n",
       "      <th>height_norm</th>\n",
       "    </tr>\n",
       "  </thead>\n",
       "  <tbody>\n",
       "    <tr>\n",
       "      <th>130</th>\n",
       "      <td>1</td>\n",
       "      <td>0.076211</td>\n",
       "      <td>0.272285</td>\n",
       "    </tr>\n",
       "    <tr>\n",
       "      <th>238</th>\n",
       "      <td>1</td>\n",
       "      <td>1.572715</td>\n",
       "      <td>0.351373</td>\n",
       "    </tr>\n",
       "    <tr>\n",
       "      <th>145</th>\n",
       "      <td>1</td>\n",
       "      <td>0.284059</td>\n",
       "      <td>0.269449</td>\n",
       "    </tr>\n",
       "    <tr>\n",
       "      <th>136</th>\n",
       "      <td>1</td>\n",
       "      <td>0.159350</td>\n",
       "      <td>0.670937</td>\n",
       "    </tr>\n",
       "    <tr>\n",
       "      <th>23</th>\n",
       "      <td>0</td>\n",
       "      <td>-1.406437</td>\n",
       "      <td>-1.702907</td>\n",
       "    </tr>\n",
       "    <tr>\n",
       "      <th>...</th>\n",
       "      <td>...</td>\n",
       "      <td>...</td>\n",
       "      <td>...</td>\n",
       "    </tr>\n",
       "    <tr>\n",
       "      <th>98</th>\n",
       "      <td>1</td>\n",
       "      <td>-0.367198</td>\n",
       "      <td>0.653046</td>\n",
       "    </tr>\n",
       "    <tr>\n",
       "      <th>220</th>\n",
       "      <td>1</td>\n",
       "      <td>1.323297</td>\n",
       "      <td>-0.009452</td>\n",
       "    </tr>\n",
       "    <tr>\n",
       "      <th>66</th>\n",
       "      <td>1</td>\n",
       "      <td>-0.810606</td>\n",
       "      <td>0.541534</td>\n",
       "    </tr>\n",
       "    <tr>\n",
       "      <th>126</th>\n",
       "      <td>1</td>\n",
       "      <td>0.020785</td>\n",
       "      <td>0.289939</td>\n",
       "    </tr>\n",
       "    <tr>\n",
       "      <th>109</th>\n",
       "      <td>1</td>\n",
       "      <td>-0.214776</td>\n",
       "      <td>-0.036980</td>\n",
       "    </tr>\n",
       "  </tbody>\n",
       "</table>\n",
       "<p>200 rows × 3 columns</p>\n",
       "</div>"
      ],
      "text/plain": [
       "     adult  age_norm  height_norm\n",
       "130      1  0.076211     0.272285\n",
       "238      1  1.572715     0.351373\n",
       "145      1  0.284059     0.269449\n",
       "136      1  0.159350     0.670937\n",
       "23       0 -1.406437    -1.702907\n",
       "..     ...       ...          ...\n",
       "98       1 -0.367198     0.653046\n",
       "220      1  1.323297    -0.009452\n",
       "66       1 -0.810606     0.541534\n",
       "126      1  0.020785     0.289939\n",
       "109      1 -0.214776    -0.036980\n",
       "\n",
       "[200 rows x 3 columns]"
      ]
     },
     "execution_count": 146,
     "metadata": {},
     "output_type": "execute_result"
    }
   ],
   "source": [
    "# Partition Pandas dataframe\n",
    "adult_train, adult_test, age_train, age_test, height_train, height_test = train_test_split( # Split data\n",
    "df_norm['adult'], df_norm['age_norm'], df_norm['height_norm'], test_size = 0.2, random_state = 123, shuffle = True\n",
    ")\n",
    "\n",
    "# Reassemble back into training and test DataFrames\n",
    "df_train = pd.DataFrame({'adult': adult_train, 'age_norm': age_train, 'height_norm': height_train})\n",
    "df_test = pd.DataFrame({'adult': adult_test, 'age_norm': age_test, 'height_norm': height_test})\n",
    "\n",
    "df_train"
   ]
  },
  {
   "cell_type": "code",
   "execution_count": null,
   "id": "7e6f964b",
   "metadata": {},
   "outputs": [],
   "source": [
    "import numpy as np\n",
    "import matplotlib\n",
    "import matplotlib.pyplot as plt\n",
    "from   scipy.optimize import minimize\n",
    "\n",
    "\n",
    "#FUNCTION TO OPTIMZE\n",
    "def f(x):\n",
    "\tout=x**2.0\n",
    "\t# out=(x+10*np.sin(x))**2.0\n",
    "\treturn out\n",
    "\n",
    "num_func_eval=0\n",
    "def f1(x): \n",
    "\tglobal num_func_eval\n",
    "\tout=f(x)\n",
    "\tnum_func_eval+=1\n",
    "\tif(num_func_eval%10==0):\n",
    "\t\tprint(num_func_eval,x,out)\n",
    "\tplt.plot(x,f(x),'ro')\n",
    "\tplt.pause(0.11)\n",
    "\n",
    "\treturn out\n",
    "\n",
    "#INITIAL GUESS \n",
    "xo=xmax #\n",
    "#xo=np.random.uniform(xmin,xmax)\n",
    "print(\"INITIAL GUESS: xo=\",xo, \" f(xo)=\",f(xo))\n",
    "res = minimize(f1, xo, method='Nelder-Mead', tol=1e-5)\n",
    "popt=res.x\n",
    "print(\"OPTIMAL PARAM:\",popt)\n"
   ]
  },
  {
   "cell_type": "code",
   "execution_count": 159,
   "id": "06b18640",
   "metadata": {},
   "outputs": [
    {
     "data": {
      "image/png": "[encoded data removed]",
      "text/plain": [
       "<Figure size 432x288 with 1 Axes>"
      ]
     },
     "metadata": {
      "needs_background": "light"
     },
     "output_type": "display_data"
    }
   ],
   "source": [
    "# Plot training data and linear model 1\n",
    "\n",
    "plot1 = df_train.plot('age_norm','height_norm', kind='scatter', \n",
    "                      xlabel = 'Normalized age', ylabel = 'Normalized weight',\n",
    "                      title = 'Normalized Weight by Normalized Age')\n"
   ]
  },
  {
   "cell_type": "code",
   "execution_count": 160,
   "id": "f0d7baf4",
   "metadata": {},
   "outputs": [
    {
     "data": {
      "image/png": "[encoded data removed]",
      "text/plain": [
       "<Figure size 432x288 with 1 Axes>"
      ]
     },
     "metadata": {
      "needs_background": "light"
     },
     "output_type": "display_data"
    }
   ],
   "source": [
    "# Plot training data and logistic model 1\n",
    "\n",
    "plot2 = df_train.plot('age_norm','height_norm', kind='scatter', \n",
    "                      xlabel = 'Normalized age', ylabel = 'Normalized weight',\n",
    "                      title = 'Normalized Weight by Normalized Age')\n"
   ]
  },
  {
   "cell_type": "code",
   "execution_count": 161,
   "id": "f089507a",
   "metadata": {},
   "outputs": [
    {
     "data": {
      "image/png": "[encoded data removed]",
      "text/plain": [
       "<Figure size 432x288 with 1 Axes>"
      ]
     },
     "metadata": {
      "needs_background": "light"
     },
     "output_type": "display_data"
    }
   ],
   "source": [
    "# Plot training data and logistic model 2\n",
    "\n",
    "plot3 = df_train.plot('height_norm','adult', kind='scatter', \n",
    "                      xlabel = 'Normalized weight', ylabel = 'Adult = 1, Child = 0',\n",
    "                      title = 'Normalized Weight by Adulthood')\n"
   ]
  }
 ],
 "metadata": {
  "kernelspec": {
   "display_name": "Python 3 (ipykernel)",
   "language": "python",
   "name": "python3"
  },
  "language_info": {
   "codemirror_mode": {
    "name": "ipython",
    "version": 3
   },
   "file_extension": ".py",
   "mimetype": "text/x-python",
   "name": "python",
   "nbconvert_exporter": "python",
   "pygments_lexer": "ipython3",
   "version": "3.9.5"
  }
 },
 "nbformat": 4,
 "nbformat_minor": 5
}
